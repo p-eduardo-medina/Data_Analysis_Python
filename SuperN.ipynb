{
 "cells": [
  {
   "cell_type": "code",
   "execution_count": 1,
   "metadata": {},
   "outputs": [
    {
     "name": "stderr",
     "output_type": "stream",
     "text": [
      "/tmp/ipykernel_8100/2862726055.py:3: DeprecationWarning: \n",
      "Pyarrow will become a required dependency of pandas in the next major release of pandas (pandas 3.0),\n",
      "(to allow more performant data types, such as the Arrow string type, and better interoperability with other libraries)\n",
      "but was not found to be installed on your system.\n",
      "If this would cause problems for you,\n",
      "please provide us feedback at https://github.com/pandas-dev/pandas/issues/54466\n",
      "        \n",
      "  import pandas as pd\n"
     ]
    }
   ],
   "source": [
    "import numpy as np\n",
    "import matplotlib.pyplot as plt\n",
    "import pandas as pd\n",
    "from scipy.optimize import minimize\n",
    "from astropy.cosmology import WMAP9\n",
    "from astropy.cosmology import FlatLambdaCDM"
   ]
  },
  {
   "cell_type": "code",
   "execution_count": 2,
   "metadata": {},
   "outputs": [
    {
     "name": "stdout",
     "output_type": "stream",
     "text": [
      "69.32\n"
     ]
    }
   ],
   "source": [
    "Omega_l_real = 0.73\n",
    "M = -19\n",
    "H0_units = WMAP9.H(0)\n",
    "H0 = H0_units.value\n",
    "print(H0)"
   ]
  },
  {
   "cell_type": "code",
   "execution_count": 3,
   "metadata": {},
   "outputs": [
    {
     "name": "stdout",
     "output_type": "stream",
     "text": [
      "60\n"
     ]
    }
   ],
   "source": [
    "datos = np.loadtxt ('perlmutter.txt', comments='#')\n",
    "z=[]\n",
    "m = []\n",
    "for i in datos:\n",
    "    z.append(i[0])\n",
    "    m.append(i[1])\n",
    "#otra opcion z=datos[:,0] todos los datos de la primer columna\n",
    "print(np.size(z))"
   ]
  },
  {
   "cell_type": "code",
   "execution_count": 4,
   "metadata": {},
   "outputs": [
    {
     "data": {
      "text/plain": [
       "Text(0, 0.5, 'Effective Magnitude')"
      ]
     },
     "execution_count": 4,
     "metadata": {},
     "output_type": "execute_result"
    },
    {
     "data": {
      "image/png": "[encoded data removed]",
      "text/plain": [
       "<Figure size 640x480 with 1 Axes>"
      ]
     },
     "metadata": {},
     "output_type": "display_data"
    }
   ],
   "source": [
    "plt.plot (z, m, 'b.')\n",
    "plt.grid()\n",
    "plt.xlabel('Redshitf')\n",
    "plt.ylabel('Effective Magnitude')"
   ]
  },
  {
   "cell_type": "code",
   "execution_count": 11,
   "metadata": {},
   "outputs": [],
   "source": [
    "def model (params, M, z):\n",
    "    def distanciaLuminosa (z):\n",
    "        cosmo = FlatLambdaCDM(H0=70, Tcmb0=2.725, Om0=1-OLambda)\n",
    "        return cosmo.luminosity_distance(z).value\n",
    "    OLambda = params\n",
    "    dist = distanciaLuminosa(z)\n",
    "    return M + 5*np.log10(dist*100000)"
   ]
  },
  {
   "cell_type": "code",
   "execution_count": 6,
   "metadata": {},
   "outputs": [],
   "source": [
    "def chi_square(params, M, m, z):\n",
    "    y_model = model(params, M, z)\n",
    "    chi_square = np.sum((m - y_model) ** 2)\n",
    "    return chi_square"
   ]
  },
  {
   "cell_type": "code",
   "execution_count": 12,
   "metadata": {},
   "outputs": [
    {
     "name": "stdout",
     "output_type": "stream",
     "text": [
      "Best-fit:\n",
      "Omega Lambda:  [0.50383572]\n",
      ":D\n"
     ]
    }
   ],
   "source": [
    "guess = 0.5\n",
    "result = minimize(chi_square, guess, args=(M, m, z))\n",
    "\n",
    "res = result.x\n",
    "\n",
    "print(\"Best-fit:\")\n",
    "print(\"Omega Lambda: \", res)\n",
    "print(':D')"
   ]
  },
  {
   "cell_type": "code",
   "execution_count": null,
   "metadata": {},
   "outputs": [],
   "source": []
  }
 ],
 "metadata": {
  "kernelspec": {
   "display_name": "Python 3",
   "language": "python",
   "name": "python3"
  },
  "language_info": {
   "codemirror_mode": {
    "name": "ipython",
    "version": 3
   },
   "file_extension": ".py",
   "mimetype": "text/x-python",
   "name": "python",
   "nbconvert_exporter": "python",
   "pygments_lexer": "ipython3",
   "version": "3.10.12"
  }
 },
 "nbformat": 4,
 "nbformat_minor": 2
}
